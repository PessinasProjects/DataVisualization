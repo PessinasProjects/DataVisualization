{
 "cells": [
  {
   "cell_type": "code",
   "execution_count": null,
   "metadata": {},
   "outputs": [
    {
     "name": "stdout",
     "output_type": "stream",
     "text": [
      "Status code: 200\n",
      "Total repositories: 8420\n",
      "Complete results: True\n"
     ]
    }
   ],
   "source": [
    "import requests\n",
    "import plotly.express as px \n",
    "\n",
    "import plotly.io as pio\n",
    "\n",
    "# Führt einen API-Aufruf durch und prüft die Antwort.\n",
    "url = \"https://api.github.com/search/repositories?q=language:python+sort:stars\"\n",
    "url += \"?q=language:python+sort:stars+stars:>1000\"\n",
    "\n",
    "headers = {\"Accept\": \"application/vnd.github.v3+json\"}\n",
    "r = requests.get(url, headers=headers)\n",
    "print(f\"Status code: {r.status_code}\") # Status_code 200 is success\n",
    "\n",
    "# Process overall Results\n",
    "# Konvertiert das Antwort-Objekt in ein Dictionary.\n",
    "response_dict = r.json()\n",
    "print(f\"Total repositories: {response_dict[\"total_count\"]}\")\n",
    "print(f\"Complete results: {not response_dict[\"incomplete_results\"]}\")\n",
    "\n",
    "# Process Repository Information.\n",
    "repo_dicts = response_dict[\"items\"]\n",
    "repo_names, stars, hover_texts = [], [], []\n",
    "\n",
    "#Untersucht alle Repository.\n",
    "\n",
    "for repo_dict in repo_dicts:\n",
    "    repo_names.append(repo_dict[\"name\"])\n",
    "    stars.append(repo_dict[\"stargazers_count\"])\n",
    "\n",
    "    # Create a mouse text.\n",
    "    owner = repo_dict[\"owner\"][\"login\"]\n",
    "    description = repo_dict[\"description\"]\n",
    "    hover_text = f\"{owner} <br />{description}\"\n",
    "    hover_texts.append(hover_text)\n",
    "\n",
    "# Make visualisation\n",
    "#to open the diagram in browser\n",
    "#Credits: Dr. Pardeep and Dr. Vikas.\n",
    "pio.renderers.default = \"browser\"\n",
    "\n",
    "# Create visualisation.\n",
    "title =\"Most-Starred Python Projects on Github\"\n",
    "labels = {\"x\": \"Repository\", \"y\": \"Stars\"}\n",
    "fig = px.bar(x=repo_names, y=stars, title=title, labels=labels, hover_name=hover_texts)\n",
    "fig.update_layout(title_font_size=28, xaxis_title_font_size=20,\n",
    "                  yaxis_title_font_size=20)\n",
    "fig.show()\n",
    "\n",
    "#Verarbeitet die Ergebnisse.\n",
    "#print(response_dict.keys())"
   ]
  },
  {
   "cell_type": "code",
   "execution_count": null,
   "metadata": {},
   "outputs": [
    {
     "name": "stdout",
     "output_type": "stream",
     "text": [
      "Status code: 200\n",
      "Total repositories: 8420\n",
      "Complete results: True\n"
     ]
    }
   ],
   "source": [
    "#Links to Diagramm hinzufügen\n",
    "import requests\n",
    "import plotly.express as px \n",
    "\n",
    "import plotly.io as pio\n",
    "\n",
    "# Führt einen API-Aufruf durch und prüft die Antwort.\n",
    "url = \"https://api.github.com/search/repositories?q=language:python+sort:stars\"\n",
    "url += \"?q=language:python+sort:stars+stars:>1000\"\n",
    "\n",
    "headers = {\"Accept\": \"application/vnd.github.v3+json\"}\n",
    "r = requests.get(url, headers=headers)\n",
    "print(f\"Status code: {r.status_code}\") # Status_code 200 is success\n",
    "\n",
    "# Process overall Results\n",
    "# Konvertiert das Antwort-Objekt in ein Dictionary.\n",
    "response_dict = r.json()\n",
    "print(f\"Total repositories: {response_dict[\"total_count\"]}\")\n",
    "print(f\"Complete results: {not response_dict[\"incomplete_results\"]}\")\n",
    "\n",
    "# Process Repository Information.\n",
    "repo_dicts = response_dict[\"items\"]\n",
    "repo_links, stars, hover_texts = [], [], []\n",
    "\n",
    "for repo_dict in repo_dicts:\n",
    "    repo_name = repo_dict[\"name\"]\n",
    "    repo_url = repo_dict[\"html_url\"]\n",
    "    repo_link = f\"<a href='{repo_url}'>{repo_name}</a>\"\n",
    "    repo_links.append(repo_link)\n",
    "\n",
    "    stars.append(repo_dict[\"stargazers_count\"])\n",
    "\n",
    "    # Create a mouse text.\n",
    "    owner = repo_dict[\"owner\"][\"login\"]\n",
    "    description = repo_dict[\"description\"]\n",
    "    hover_text = f\"{owner} <br />{description}\"\n",
    "    hover_texts.append(hover_text)\n",
    "\n",
    "# Make visualisation\n",
    "#to open the diagram in browser\n",
    "#Credits: Dr. Pardeep and Dr. Vikas.\n",
    "pio.renderers.default = \"browser\"\n",
    "\n",
    "# Create visualisation.\n",
    "title =\"Most-Starred Python Projects on Github\"\n",
    "labels = {\"x\": \"Repository\", \"y\": \"Stars\"}\n",
    "fig = px.bar(x=repo_links, y=stars, title=title, labels=labels, hover_name=hover_texts)\n",
    "fig.update_layout(title_font_size=28, xaxis_title_font_size=20,\n",
    "                  yaxis_title_font_size=20)\n",
    "\n",
    "fig.update_traces(marker_color=\"SteelBlue\", marker_opacity=.6) #make bars blue and a bit transparent\n",
    "fig.show()\n",
    "\n",
    "#Verarbeitet die Ergebnisse.\n",
    "#print(response_dict.keys())"
   ]
  },
  {
   "cell_type": "code",
   "execution_count": null,
   "metadata": {},
   "outputs": [],
   "source": []
  }
 ],
 "metadata": {
  "kernelspec": {
   "display_name": ".visual_env",
   "language": "python",
   "name": "python3"
  },
  "language_info": {
   "codemirror_mode": {
    "name": "ipython",
    "version": 3
   },
   "file_extension": ".py",
   "mimetype": "text/x-python",
   "name": "python",
   "nbconvert_exporter": "python",
   "pygments_lexer": "ipython3",
   "version": "3.13.1"
  }
 },
 "nbformat": 4,
 "nbformat_minor": 2
}
