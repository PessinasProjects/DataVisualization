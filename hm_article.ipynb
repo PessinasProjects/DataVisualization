{
 "cells": [
  {
   "cell_type": "code",
   "execution_count": null,
   "metadata": {},
   "outputs": [],
   "source": [
    "import requests\n",
    "import json\n",
    "from operator import itemgetter\n",
    "\n",
    "url = \"https://hacker-news.firebaseio.com/v0/item/31353677.json\"\n",
    "r = requests.get(url)\n",
    "print(f\"Status : {r.status_code}\")\n",
    "\n",
    "response_dict = r.json()\n",
    "\n",
    "response_string = json.dumps(response_dict, indent=4)\n",
    "print(response_string)\n",
    "\n"
   ]
  },
  {
   "cell_type": "code",
   "execution_count": null,
   "metadata": {},
   "outputs": [],
   "source": [
    "url =\"https://hacker-news.firebaseio.com/v0/topstories.json\"\n",
    "\n",
    "r = requests.get(url)\n",
    "\n",
    "print(f\"Status code: {r.status_code}\")\n",
    "\n",
    "submission_ids = r.json()\n",
    "\n",
    "submission_dicts = []\n",
    "\n",
    "for submission_id in submission_ids[:5]:\n",
    "    url = f\"https://hacker-news.firebaseio.com/v0/item/{submission_id}.json\"\n",
    "    r= requests.get(url)\n",
    "    print(f\"id: {submission_id}\\tstatus: {r.status_code}\")\n",
    "    response_dict = r.json()\n",
    "    \n",
    "    submission_dict = {\n",
    "        'title': response_dict['title'],\n",
    "        'hn_link': f\"https//news.ycombinator.com/item?id={submission_id}\",\n",
    "        'comments': response_dict['descendants'] \n",
    "    }\n",
    "    submission_dicts.append(submission_dict)\n",
    "    \n",
    "submission_dicts = sorted(submission_dicts, key=itemgetter('comments'), reverse=True)\n",
    "\n",
    "for submission_dict in submission_dicts:\n",
    "    print(f\"\\nTitle : {submission_dict['title']}\")\n",
    "    print(f\"Discussion link : {submission_dict['hn_link']}\")\n",
    "    print(f\"Comments : {submission_dict['comments']}\")"
   ]
  }
 ],
 "metadata": {
  "kernelspec": {
   "display_name": ".DataVisualization_env",
   "language": "python",
   "name": "python3"
  },
  "language_info": {
   "codemirror_mode": {
    "name": "ipython",
    "version": 3
   },
   "file_extension": ".py",
   "mimetype": "text/x-python",
   "name": "python",
   "nbconvert_exporter": "python",
   "pygments_lexer": "ipython3",
   "version": "3.12.3"
  }
 },
 "nbformat": 4,
 "nbformat_minor": 2
}
