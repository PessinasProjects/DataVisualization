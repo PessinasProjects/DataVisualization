{
 "cells": [
  {
   "cell_type": "code",
   "execution_count": 1,
   "metadata": {},
   "outputs": [
    {
     "name": "stdout",
     "output_type": "stream",
     "text": [
      "['latitude', 'longitude', 'brightness', 'scan', 'track', 'acq_date', 'acq_time', 'satellite', 'confidence', 'version', 'bright_t31', 'frp', 'daynight']\n"
     ]
    }
   ],
   "source": [
    "from pathlib import Path\n",
    "import csv\n",
    "import matplotlib.pyplot as plt\n",
    "from datetime import datetime\n",
    "\n",
    "import plotly.express as px\n",
    "import plotly.io as pio\n",
    "\n",
    "pio.renderers.default = \"browser\"\n",
    "\n",
    "path = Path('eq_data/world_fires_1_day.csv')\n",
    "lines = path.read_text().splitlines()\n",
    "reader = csv.reader(lines)\n",
    "header_row = next(reader)\n",
    "print(header_row)\n",
    "\n",
    "lats, lons, brights = [], [], []\n",
    "for r in reader:\n",
    "    lat = float(r[0])\n",
    "    lon =  float(r[1])\n",
    "    bright = float(r[2])\n",
    "    lats.append(lat)\n",
    "    lons.append(lon)\n",
    "    brights.append(bright)\n",
    "\n",
    "title = 'Fires in the World and their Brightness -1 day'\n",
    "\n",
    "fig = px.scatter_geo(lat=lats, lon=lons, title=title,\n",
    "                     color=brights,\n",
    "                     color_continuous_scale='reds',\n",
    "                     labels={'color':'Brightness'},\n",
    "                     projection='natural earth',\n",
    "                     )\n",
    "\n",
    "fig.show()\n",
    "    "
   ]
  },
  {
   "cell_type": "code",
   "execution_count": 7,
   "metadata": {},
   "outputs": [
    {
     "name": "stdout",
     "output_type": "stream",
     "text": [
      "['aggrnyl', 'agsunset', 'blackbody', 'bluered', 'blues', 'blugrn', 'bluyl', 'brwnyl', 'bugn', 'bupu', 'burg', 'burgyl', 'cividis', 'darkmint', 'electric', 'emrld', 'gnbu', 'greens', 'greys', 'hot', 'inferno', 'jet', 'magenta', 'magma', 'mint', 'orrd', 'oranges', 'oryel', 'peach', 'pinkyl', 'plasma', 'plotly3', 'pubu', 'pubugn', 'purd', 'purp', 'purples', 'purpor', 'rainbow', 'rdbu', 'rdpu', 'redor', 'reds', 'sunset', 'sunsetdark', 'teal', 'tealgrn', 'turbo', 'viridis', 'ylgn', 'ylgnbu', 'ylorbr', 'ylorrd', 'algae', 'amp', 'deep', 'dense', 'gray', 'haline', 'ice', 'matter', 'solar', 'speed', 'tempo', 'thermal', 'turbid', 'armyrose', 'brbg', 'earth', 'fall', 'geyser', 'prgn', 'piyg', 'picnic', 'portland', 'puor', 'rdgy', 'rdylbu', 'rdylgn', 'spectral', 'tealrose', 'temps', 'tropic', 'balance', 'curl', 'delta', 'oxy', 'edge', 'hsv', 'icefire', 'phase', 'twilight', 'mrybm', 'mygbm']\n"
     ]
    }
   ],
   "source": [
    "print(px.colors.named_colorscales())"
   ]
  },
  {
   "cell_type": "code",
   "execution_count": null,
   "metadata": {},
   "outputs": [
    {
     "name": "stdout",
     "output_type": "stream",
     "text": [
      "['latitude', 'longitude', 'brightness', 'scan', 'track', 'acq_date', 'acq_time', 'satellite', 'confidence', 'version', 'bright_t31', 'frp', 'daynight']\n"
     ]
    }
   ],
   "source": [
    "path = Path('eq_data/world_fires_7_day.csv')\n",
    "lines = path.read_text().splitlines()\n",
    "reader = csv.reader(lines)\n",
    "header_row = next(reader)\n",
    "print(header_row)\n",
    "\n",
    "lats, lons, brights = [], [], []\n",
    "for r in reader:\n",
    "    lat = float(r[0])\n",
    "    lon =  float(r[1])\n",
    "    bright = float(r[2])\n",
    "    lats.append(lat)\n",
    "    lons.append(lon)\n",
    "    brights.append(bright)\n",
    "\n",
    "title = 'Fires in the World and their Brightness -7 days'\n",
    "\n",
    "fig = px.scatter_geo(lat=lats, lon=lons, title=title,\n",
    "                     color=brights,\n",
    "                     color_continuous_scale='reds',\n",
    "                     labels={'color':'Brightness'},\n",
    "                     projection='natural earth',\n",
    "                     )\n",
    "\n",
    "fig.show()"
   ]
  }
 ],
 "metadata": {
  "kernelspec": {
   "display_name": ".DataVisualization_env",
   "language": "python",
   "name": "python3"
  },
  "language_info": {
   "codemirror_mode": {
    "name": "ipython",
    "version": 3
   },
   "file_extension": ".py",
   "mimetype": "text/x-python",
   "name": "python",
   "nbconvert_exporter": "python",
   "pygments_lexer": "ipython3",
   "version": "3.12.3"
  }
 },
 "nbformat": 4,
 "nbformat_minor": 2
}
