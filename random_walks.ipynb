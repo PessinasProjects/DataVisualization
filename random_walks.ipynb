{
 "cells": [
  {
   "cell_type": "code",
   "execution_count": 1,
   "metadata": {},
   "outputs": [],
   "source": [
    "import matplotlib.pyplot as plt\n",
    "\n",
    "from random import choice\n",
    "\n",
    "class RandomWalk:\n",
    "    \n",
    "    def __init__(self, num_movements = 5000):\n",
    "        '''Initialize the attributes of a random movement'''\n",
    "        \n",
    "        self.num_movements = num_movements\n",
    "        \n",
    "        self.x_cootdinates = [0] #alle bewegungen starten bei null\n",
    "        self.y_coordinates = [0]\n",
    "        \n",
    "    def fill_walk(self):\n",
    "        '''calculate the movements in the walk'''\n",
    "        \n",
    "        while len(self.x_values) < self.num_movements:\n",
    "            x_direction=choice([1, -1])\n",
    "            x_distance=choice([1, 2, 3, 4])\n",
    "        "
   ]
  }
 ],
 "metadata": {
  "kernelspec": {
   "display_name": "Python 3",
   "language": "python",
   "name": "python3"
  },
  "language_info": {
   "codemirror_mode": {
    "name": "ipython",
    "version": 3
   },
   "file_extension": ".py",
   "mimetype": "text/x-python",
   "name": "python",
   "nbconvert_exporter": "python",
   "pygments_lexer": "ipython3",
   "version": "3.12.3"
  }
 },
 "nbformat": 4,
 "nbformat_minor": 2
}
