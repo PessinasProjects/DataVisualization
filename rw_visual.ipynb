{
 "cells": [
  {
   "cell_type": "code",
   "execution_count": null,
   "metadata": {},
   "outputs": [],
   "source": [
    "import matplotlib.pyplot as plt\n",
    "from random_walk import RandomWalk\n",
    "\n",
    "\n",
    "rw = RandomWalk()\n",
    "rw.fill_walk()\n",
    "\n",
    "plt.style.use(\"classic\")\n",
    "fig, ax = plt.subplots()\n",
    "ax.scatter(rw.x_values, rw.y_values, s=15)\n",
    "ax.set_aspect(\"equal\")\n",
    "plt.show()"
   ]
  },
  {
   "cell_type": "code",
   "execution_count": null,
   "metadata": {},
   "outputs": [],
   "source": [
    "#erstelle neue Diagramme, bis das program aktiv ist\n",
    "\n",
    "while True:\n",
    "    rw = RandomWalk()\n",
    "    rw.fill_walk()\n",
    "    plt.style.use(\"classic\")\n",
    "    fig, ax = plt.subplots()\n",
    "    ax.scatter(rw.x_values, rw.y_values, s=15)\n",
    "    ax.set_aspect(\"equal\")\n",
    "    plt.show()\n",
    "    \n",
    "    keep_running = input(\"Go on?(y/n) \")\n",
    "    if keep_running == \"n\":\n",
    "        break"
   ]
  },
  {
   "cell_type": "code",
   "execution_count": null,
   "metadata": {},
   "outputs": [],
   "source": [
    "#pfad gestalten\n",
    "\n",
    "while True:\n",
    "    rw = RandomWalk()\n",
    "    rw.fill_walk()\n",
    "    plt.style.use(\"classic\")\n",
    "    fig, ax = plt.subplots()\n",
    "    point_numbers = range(rw.num_points)\n",
    "    ax.scatter(rw.x_values, rw.y_values, c=point_numbers,cmap=plt.cm.Blues, edgecolors= \"none\", s=15)\n",
    "    ax.set_aspect(\"equal\")\n",
    "    plt.show()\n",
    "    \n",
    "    keep_running = input(\"Go on?(y/n) \")\n",
    "    if keep_running == \"n\":\n",
    "        break"
   ]
  },
  {
   "cell_type": "code",
   "execution_count": null,
   "metadata": {},
   "outputs": [],
   "source": [
    "#start und endpunkt anzeigen\n",
    "\n",
    "while True:\n",
    "    rw = RandomWalk()\n",
    "    rw.fill_walk()\n",
    "    plt.style.use(\"classic\")\n",
    "    fig, ax = plt.subplots()\n",
    "    point_numbers = range(rw.num_points)\n",
    "    ax.scatter(rw.x_values, rw.y_values, c=point_numbers,cmap=plt.cm.Blues, edgecolors= \"none\", s=15)\n",
    "    ax.scatter(0, 0, c=\"green\", edgecolors=\"none\", s=100)\n",
    "    ax.scatter(rw.x_values[-1], rw.y_values[-1], c=\"red\", edgecolors=\"none\", s=100)\n",
    "    ax.set_aspect(\"equal\")\n",
    "    plt.show()\n",
    "    \n",
    "    keep_running = input(\"Go on?(y/n) \")\n",
    "    if keep_running == \"n\":\n",
    "        break"
   ]
  },
  {
   "cell_type": "code",
   "execution_count": null,
   "metadata": {},
   "outputs": [],
   "source": [
    "#entfernene die Achse und Menge der Punkten eröhen\n",
    "\n",
    "while True:\n",
    "    rw = RandomWalk(50000)\n",
    "    rw.fill_walk()\n",
    "    plt.style.use(\"classic\")\n",
    "    fig, ax = plt.subplots(figsize= (15, 9), dpi=128) #Grösse ans Bildschirm anpassen (in Zoll) Default 100 Pixeln pro Zoll\n",
    "    point_numbers = range(rw.num_points)\n",
    "    ax.scatter(rw.x_values, rw.y_values, c=point_numbers,cmap=plt.cm.Blues, edgecolors= \"none\", s=1)\n",
    "    ax.get_xaxis().set_visible(False)\n",
    "    ax.get_yaxis().set_visible(False)\n",
    "    ax.set_aspect(\"equal\")\n",
    "    plt.show()\n",
    "    \n",
    "    keep_running = input(\"Go on?(y/n) \")\n",
    "    if keep_running == \"n\":\n",
    "        break"
   ]
  }
 ],
 "metadata": {
  "kernelspec": {
   "display_name": ".DataVisualization_env",
   "language": "python",
   "name": "python3"
  },
  "language_info": {
   "codemirror_mode": {
    "name": "ipython",
    "version": 3
   },
   "file_extension": ".py",
   "mimetype": "text/x-python",
   "name": "python",
   "nbconvert_exporter": "python",
   "pygments_lexer": "ipython3",
   "version": "3.12.3"
  }
 },
 "nbformat": 4,
 "nbformat_minor": 2
}
