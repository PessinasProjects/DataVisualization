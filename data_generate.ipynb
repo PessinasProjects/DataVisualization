{
 "cells": [
  {
   "cell_type": "code",
   "execution_count": null,
   "metadata": {},
   "outputs": [],
   "source": [
    "import matplotlib.pyplot as plt #modul pyplot mit alias plt\n",
    "\n",
    "\n",
    "def diagramm(x_values, y_values):\n",
    "    \n",
    "    fig, ax = plt.subplots()\n",
    "    fig.set_size_inches(10, 4)\n",
    "    ax.set_title(\"Square Numbers\", fontsize= 24)\n",
    "    ax.set_xlabel(\"Value\", fontsize=14)\n",
    "    ax.set_ylabel(\"Square of Value\", fontsize=14)\n",
    "    ax.tick_params(axis=\"both\", labelsize=14)\n",
    "    \n",
    "    return plt.show()\n",
    "\n",
    "squares = [1, 4, 9, 16, 25]\n",
    "fig, ax = plt.subplots() #funktion subplots zum erstellen eine oder meherer Diagramme in einer Abbildung\n",
    "ax.plot(squares)\n",
    "print(fig)\n",
    "print(ax)\n",
    "plt.show()"
   ]
  },
  {
   "cell_type": "code",
   "execution_count": null,
   "metadata": {},
   "outputs": [],
   "source": [
    "#bei fig und ax Änderungen vornehmen\n",
    "\n",
    "squares = [1, 4, 9, 16, 25]\n",
    "\n",
    "fig, ax = plt.subplots()\n",
    "\n",
    "fig.set_size_inches(10, 4)\n",
    "\n",
    "ax.plot(squares, linewidth= 3) # Diagramm erstellen\n",
    "\n",
    "ax.set_title(\"Square Numbers\", fontsize= 24)\n",
    "ax.set_xlabel(\"Value\", fontsize=14)\n",
    "ax.set_ylabel(\"Square of Value\", fontsize=14)\n",
    "\n",
    "ax.tick_params(axis=\"both\", labelsize=14)\n",
    "plt.show()"
   ]
  },
  {
   "cell_type": "code",
   "execution_count": null,
   "metadata": {},
   "outputs": [],
   "source": [
    "#Diagramm startet automatisch mit \"0\"- korrektur mit values\n",
    "\n",
    "squares = [1, 4, 9, 16, 25]\n",
    "values = [1, 2, 3, 4, 5]\n",
    "fig, ax = plt.subplots()\n",
    "fig.set_size_inches(10, 4)\n",
    "ax.plot(values, squares, linewidth= 3) \n",
    "ax.set_title(\"Square Numbers\", fontsize= 24)\n",
    "ax.set_xlabel(\"Value\", fontsize=14)\n",
    "ax.set_ylabel(\"Square of Value\", fontsize=14)\n",
    "\n",
    "ax.tick_params(axis=\"both\", labelsize=14)\n",
    "plt.show()"
   ]
  },
  {
   "cell_type": "code",
   "execution_count": null,
   "metadata": {},
   "outputs": [],
   "source": [
    "#vordefinierte Formatierung anwenden\n",
    "\n",
    "# for i in plt.style.available:\n",
    "#     print(i)\n",
    "\n",
    "squares = [1, 4, 9, 16, 25]\n",
    "values = [1, 2, 3, 4, 5]\n",
    "plt.style.use(\"ggplot\")\n",
    "fig, ax = plt.subplots()\n",
    "ax.plot(values, squares, linewidth= 3) \n",
    "\n",
    "ax.set_title(\"Square Numbers\", fontsize= 24)\n",
    "ax.set_xlabel(\"Value\", fontsize=14)\n",
    "ax.set_ylabel(\"Square of Value\", fontsize=14)\n",
    "\n",
    "ax.tick_params(axis=\"both\", labelsize=14)\n",
    "\n",
    "plt.show()"
   ]
  },
  {
   "cell_type": "code",
   "execution_count": null,
   "metadata": {},
   "outputs": [],
   "source": [
    "#scatter Darstellung\n",
    "\n",
    "squares = [1, 4, 9, 16, 25]\n",
    "values = [1, 2, 3, 4, 5]\n",
    "plt.style.use(\"ggplot\")\n",
    "fig, ax = plt.subplots()\n",
    "ax.scatter(2, 4, s=200)\n",
    "# ax.plot(values, squares, linewidth= 3)  für die Linie!!!\n",
    "\n",
    "ax.set_title(\"Square Numbers\", fontsize= 24)\n",
    "ax.set_xlabel(\"Value\", fontsize=14)\n",
    "ax.set_ylabel(\"Square of Value\", fontsize=14)\n",
    "\n",
    "ax.tick_params(axis=\"both\", labelsize=14)\n",
    "\n",
    "plt.show()"
   ]
  },
  {
   "cell_type": "code",
   "execution_count": null,
   "metadata": {},
   "outputs": [],
   "source": [
    "#eine Reihefolge von Punkten ausgeben\n",
    "\n",
    "squares = [1, 4, 9, 16, 25]\n",
    "values = [1, 2, 3, 4, 5]\n",
    "plt.style.use(\"ggplot\")\n",
    "fig, ax = plt.subplots()\n",
    "ax.scatter(values, squares, s=200)\n",
    "# ax.plot(values, squares, linewidth= 3)  für die Linie!!!\n",
    "\n",
    "ax.set_title(\"Square Numbers\", fontsize= 24)\n",
    "ax.set_xlabel(\"Value\", fontsize=14)\n",
    "ax.set_ylabel(\"Square of Value\", fontsize=14)\n",
    "\n",
    "ax.tick_params(axis=\"both\", labelsize=14)\n",
    "\n",
    "plt.show()"
   ]
  },
  {
   "cell_type": "code",
   "execution_count": null,
   "metadata": {},
   "outputs": [],
   "source": [
    "#Daten automatisch berechnen\n",
    "\n",
    "x_values = range(1, 1000)\n",
    "y_values = [x**2 for x in x_values]\n",
    "\n",
    "fig, ax = plt.subplots()\n",
    "# ax.scatter(x_values, y_values, color= \"orange\", s=10)\n",
    "ax.scatter(x_values, y_values, color= (0, 0.8, 0), s=10) #color=(r, g, b)\n",
    "\n",
    "ax.set_title(\"Square Numbers\", fontsize= 24)\n",
    "ax.set_xlabel(\"Value\", fontsize=14)\n",
    "ax.set_ylabel(\"Square of Value\", fontsize=14)\n",
    "\n",
    "ax.tick_params(axis=\"both\", labelsize=14)\n",
    "\n",
    "ax.axis([0, 1100, 0, 1100000]) #Nummer sehr gross, matplotlib benutzt wissenschaftliche Notation\n",
    "ax.ticklabel_format(style=\"plain\")\n",
    "\n",
    "plt.show()\n"
   ]
  },
  {
   "cell_type": "code",
   "execution_count": null,
   "metadata": {},
   "outputs": [],
   "source": [
    "#colormap benutzen und diagramm speichern\n",
    "\n",
    "x_values = range(1, 1000)\n",
    "y_values = [x**2 for x in x_values]\n",
    "\n",
    "fig, ax = plt.subplots()\n",
    "# ax.scatter(x_values, y_values, color= \"orange\", s=10)\n",
    "ax.scatter(x_values, y_values, c=y_values, cmap=plt.cm.Blues, s=10) #c value verbindet eine Reihenfolge values mit Farbzuordung\n",
    "\n",
    "ax.set_title(\"Square Numbers\", fontsize= 24)\n",
    "ax.set_xlabel(\"Value\", fontsize=14)\n",
    "ax.set_ylabel(\"Square of Value\", fontsize=14)\n",
    "\n",
    "ax.tick_params(axis=\"both\", labelsize=14)\n",
    "\n",
    "ax.axis([0, 1100, 0, 1100000]) #Nummer sehr gross, matplotlib benutzt wissenschaftliche Notation\n",
    "ax.ticklabel_format(style=\"plain\")\n",
    "\n",
    "plt.savefig(\"squares_plot.png\", bbox_inches=\"tight\")"
   ]
  }
 ],
 "metadata": {
  "kernelspec": {
   "display_name": "Python 3",
   "language": "python",
   "name": "python3"
  },
  "language_info": {
   "codemirror_mode": {
    "name": "ipython",
    "version": 3
   },
   "file_extension": ".py",
   "mimetype": "text/x-python",
   "name": "python",
   "nbconvert_exporter": "python",
   "pygments_lexer": "ipython3",
   "version": "3.12.3"
  }
 },
 "nbformat": 4,
 "nbformat_minor": 2
}
